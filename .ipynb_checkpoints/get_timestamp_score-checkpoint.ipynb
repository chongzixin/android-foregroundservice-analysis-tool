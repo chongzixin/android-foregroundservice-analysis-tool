{
 "cells": [
  {
   "cell_type": "code",
   "execution_count": 93,
   "metadata": {},
   "outputs": [],
   "source": [
    "import pandas as pd"
   ]
  },
  {
   "cell_type": "code",
   "execution_count": 7,
   "metadata": {},
   "outputs": [],
   "source": [
    "# read and clean data by removing unwanted text and spaces\n",
    "data = pd.read_csv(\"20200914_samsung\", header=None)\n",
    "data[0] = data[0].str.replace(\"from onCreate\", \"\")\n",
    "data[0] = data[0].str.replace(\"from MainActivity onCreate\", \"\")\n",
    "data[0] = data[0].str.strip()\n",
    "\n",
    "data[\"timestamp\"] = pd.to_datetime(data[0], format=\"%d %b %Y %H:%M:%S:%f\")\n",
    "data = data.set_index(\"timestamp\")"
   ]
  },
  {
   "cell_type": "code",
   "execution_count": 8,
   "metadata": {
    "tags": []
   },
   "outputs": [
    {
     "name": "stdout",
     "output_type": "stream",
     "text": [
      "                                                                    0\n",
      "timestamp                                                            \n",
      "2020-09-14 19:54:00                          14 Sep 2020 19:54:03:050\n",
      "2020-09-14 19:55:00                          14 Sep 2020 19:55:05:859\n",
      "2020-09-14 19:56:00                          14 Sep 2020 19:56:05:859\n",
      "2020-09-14 19:57:00                          14 Sep 2020 19:57:05:858\n",
      "2020-09-14 19:58:00                          14 Sep 2020 19:58:05:859\n",
      "...                                                               ...\n",
      "2020-09-15 11:28:00                          15 Sep 2020 11:28:10:897\n",
      "2020-09-15 11:29:00                          15 Sep 2020 11:29:13:020\n",
      "2020-09-15 11:30:00                          15 Sep 2020 11:30:15:031\n",
      "2020-09-15 11:31:00                          15 Sep 2020 11:31:13:370\n",
      "2020-09-15 11:32:00  15 Sep 2020 11:32:14:56015 Sep 2020 11:32:56:560\n",
      "\n",
      "[939 rows x 1 columns]\n"
     ]
    }
   ],
   "source": [
    "print(data.resample(\"1T\").sum())"
   ]
  },
  {
   "cell_type": "code",
   "execution_count": 96,
   "metadata": {
    "tags": []
   },
   "outputs": [
    {
     "name": "stdout",
     "output_type": "stream",
     "text": [
      "0\n",
      "timestamp                                        \n",
      "2020-09-14 19:54:03.050  14 Sep 2020 19:54:03:050\n",
      "2020-09-14 19:55:05.859  14 Sep 2020 19:55:05:859\n",
      "2020-09-14 19:56:05.859  14 Sep 2020 19:56:05:859\n",
      "2020-09-14 19:57:05.858  14 Sep 2020 19:57:05:858\n",
      "2020-09-14 19:58:05.859  14 Sep 2020 19:58:05:859\n",
      "...                                           ...\n",
      "2020-09-15 11:29:13.020  15 Sep 2020 11:29:13:020\n",
      "2020-09-15 11:30:15.031  15 Sep 2020 11:30:15:031\n",
      "2020-09-15 11:31:13.370  15 Sep 2020 11:31:13:370\n",
      "2020-09-15 11:32:14.560  15 Sep 2020 11:32:14:560\n",
      "2020-09-15 11:32:56.560  15 Sep 2020 11:32:56:560\n",
      "\n",
      "[1075 rows x 1 columns]\n"
     ]
    }
   ],
   "source": [
    "print(data)"
   ]
  },
  {
   "cell_type": "code",
   "execution_count": null,
   "metadata": {},
   "outputs": [],
   "source": []
  }
 ],
 "metadata": {
  "kernelspec": {
   "display_name": "Python 3.7.6 64-bit",
   "language": "python",
   "name": "python37664bit2d477bd3c8524222ac6dda5bfbaedc31"
  },
  "language_info": {
   "codemirror_mode": {
    "name": "ipython",
    "version": 3
   },
   "file_extension": ".py",
   "mimetype": "text/x-python",
   "name": "python",
   "nbconvert_exporter": "python",
   "pygments_lexer": "ipython3",
   "version": "3.7.6"
  }
 },
 "nbformat": 4,
 "nbformat_minor": 2
}
